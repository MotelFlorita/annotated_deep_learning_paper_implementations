{
 "cells": [
  {
   "cell_type": "markdown",
   "metadata": {
    "id": "AYV_dMVDxyc2"
   },
   "source": [
    "[![Github](https://img.shields.io/github/stars/labmlai/annotated_deep_learning_paper_implementations?style=social)](https://github.com/labmlai/annotated_deep_learning_paper_implementations)\n",
    "[![Open In Colab](https://colab.research.google.com/assets/colab-badge.svg)](https://colab.research.google.com/github/labmlai/annotated_deep_learning_paper_implementations/blob/master/labml_nn/gan/cycle_gan/experiment.ipynb)\n",
    "\n",
    "## Cycle GAN\n",
    "\n",
    "This is an experiment training Cycle GAN model."
   ]
  },
  {
   "cell_type": "markdown",
   "metadata": {
    "id": "AahG_i2y5tY9"
   },
   "source": [
    "Install the `labml-nn` package"
   ]
  },
  {
   "cell_type": "code",
   "execution_count": 1,
   "metadata": {
    "colab": {
     "base_uri": "https://localhost:8080/"
    },
    "id": "ZCzmCrAIVg0L",
    "outputId": "2fe2685f-731c-4c47-854e-a4f00e485281"
   },
   "outputs": [
    {
     "name": "stdout",
     "output_type": "stream",
     "text": [
      "Collecting labml-nn\n",
      "\u001b[?25l  Downloading https://files.pythonhosted.org/packages/9d/bb/a7a6f69ab6e21de2398b5f6b0b2bb47b430e4a20ae2c8710c489e02813be/labml_nn-0.4.81-py3-none-any.whl (118kB)\n",
      "\r\u001b[K     |██▊                             | 10kB 22.6MB/s eta 0:00:01\r\u001b[K     |█████▌                          | 20kB 14.6MB/s eta 0:00:01\r\u001b[K     |████████▎                       | 30kB 12.9MB/s eta 0:00:01\r\u001b[K     |███████████                     | 40kB 12.1MB/s eta 0:00:01\r\u001b[K     |█████████████▉                  | 51kB 8.2MB/s eta 0:00:01\r\u001b[K     |████████████████▋               | 61kB 8.7MB/s eta 0:00:01\r\u001b[K     |███████████████████▍            | 71kB 8.9MB/s eta 0:00:01\r\u001b[K     |██████████████████████▏         | 81kB 9.9MB/s eta 0:00:01\r\u001b[K     |█████████████████████████       | 92kB 8.9MB/s eta 0:00:01\r\u001b[K     |███████████████████████████▊    | 102kB 8.0MB/s eta 0:00:01\r\u001b[K     |██████████████████████████████▌ | 112kB 8.0MB/s eta 0:00:01\r\u001b[K     |████████████████████████████████| 122kB 8.0MB/s \n",
      "\u001b[?25hRequirement already satisfied: torch in /usr/local/lib/python3.6/dist-packages (from labml-nn) (1.7.0+cu101)\n",
      "Collecting labml-helpers>=0.4.72\n",
      "  Downloading https://files.pythonhosted.org/packages/ec/58/2b7dcfde4565134ad97cdfe96ad7070fef95c37be2cbc066b608c9ae5c1d/labml_helpers-0.4.72-py3-none-any.whl\n",
      "Requirement already satisfied: numpy in /usr/local/lib/python3.6/dist-packages (from labml-nn) (1.19.5)\n",
      "Collecting labml>=0.4.94\n",
      "\u001b[?25l  Downloading https://files.pythonhosted.org/packages/99/b2/3a424548d74a88ce565b38f6b7e707e7c2f00bf8c7c575a1c251807e4896/labml-0.4.94-py3-none-any.whl (99kB)\n",
      "\u001b[K     |████████████████████████████████| 102kB 8.2MB/s \n",
      "\u001b[?25hCollecting einops\n",
      "  Downloading https://files.pythonhosted.org/packages/5d/a0/9935e030634bf60ecd572c775f64ace82ceddf2f504a5fd3902438f07090/einops-0.3.0-py2.py3-none-any.whl\n",
      "Requirement already satisfied: typing-extensions in /usr/local/lib/python3.6/dist-packages (from torch->labml-nn) (3.7.4.3)\n",
      "Requirement already satisfied: future in /usr/local/lib/python3.6/dist-packages (from torch->labml-nn) (0.16.0)\n",
      "Requirement already satisfied: dataclasses in /usr/local/lib/python3.6/dist-packages (from torch->labml-nn) (0.8)\n",
      "Collecting gitpython\n",
      "\u001b[?25l  Downloading https://files.pythonhosted.org/packages/d7/cb/ec98155c501b68dcb11314c7992cd3df6dce193fd763084338a117967d53/GitPython-3.1.12-py3-none-any.whl (159kB)\n",
      "\u001b[K     |████████████████████████████████| 163kB 9.9MB/s \n",
      "\u001b[?25hRequirement already satisfied: pyyaml in /usr/local/lib/python3.6/dist-packages (from labml>=0.4.94->labml-nn) (3.13)\n",
      "Collecting gitdb<5,>=4.0.1\n",
      "\u001b[?25l  Downloading https://files.pythonhosted.org/packages/48/11/d1800bca0a3bae820b84b7d813ad1eff15a48a64caea9c823fc8c1b119e8/gitdb-4.0.5-py3-none-any.whl (63kB)\n",
      "\u001b[K     |████████████████████████████████| 71kB 8.6MB/s \n",
      "\u001b[?25hCollecting smmap<4,>=3.0.1\n",
      "  Downloading https://files.pythonhosted.org/packages/d5/1e/6130925131f639b2acde0f7f18b73e33ce082ff2d90783c436b52040af5a/smmap-3.0.5-py2.py3-none-any.whl\n",
      "Installing collected packages: smmap, gitdb, gitpython, labml, labml-helpers, einops, labml-nn\n",
      "Successfully installed einops-0.3.0 gitdb-4.0.5 gitpython-3.1.12 labml-0.4.94 labml-helpers-0.4.72 labml-nn-0.4.81 smmap-3.0.5\n"
     ]
    }
   ],
   "source": [
    "!pip install labml-nn"
   ]
  },
  {
   "cell_type": "markdown",
   "metadata": {
    "id": "SE2VUQ6L5zxI"
   },
   "source": [
    "Imports"
   ]
  },
  {
   "cell_type": "code",
   "execution_count": 1,
   "metadata": {
    "id": "0hJXx_g0wS2C"
   },
   "outputs": [],
   "source": [
    "import torch\n",
    "import torch.nn as nn\n",
    "\n",
    "from labml import experiment\n",
    "from labml.configs import option\n",
    "from labml_helpers.module import Module\n",
    "from labml.utils.pytorch import get_modules\n",
    "from labml_nn.gan.cycle_gan import Configs"
   ]
  },
  {
   "cell_type": "markdown",
   "metadata": {
    "id": "Lpggo0wM6qb-"
   },
   "source": [
    "Create an experiment"
   ]
  },
  {
   "cell_type": "code",
   "execution_count": 2,
   "metadata": {
    "id": "bFcr9k-l4cAg"
   },
   "outputs": [],
   "source": [
    "experiment.create(name=\"cycle_gan\")"
   ]
  },
  {
   "cell_type": "markdown",
   "metadata": {
    "id": "-OnHLi626tJt"
   },
   "source": [
    "Initialize configurations"
   ]
  },
  {
   "cell_type": "code",
   "execution_count": 3,
   "metadata": {
    "id": "Piz0c5f44hRo"
   },
   "outputs": [],
   "source": [
    "conf = Configs()"
   ]
  },
  {
   "cell_type": "markdown",
   "metadata": {
    "id": "wwMzCqpD6vkL"
   },
   "source": [
    "Set experiment configurations and assign a configurations dictionary to override configurations"
   ]
  },
  {
   "cell_type": "code",
   "execution_count": 5,
   "metadata": {
    "colab": {
     "base_uri": "https://localhost:8080/",
     "height": 17
    },
    "id": "e6hmQhTw4nks",
    "outputId": "4be767af-0ebd-4c35-8da0-0e532495e037"
   },
   "outputs": [
    {
     "data": {
      "application/vnd.jupyter.widget-view+json": {
       "model_id": "6de8f4b14038437ba07f48f0157c9e33",
       "version_major": 2,
       "version_minor": 0
      },
      "text/plain": [
       "HTML(value='<pre  style=\"overflow-x: scroll;\"></pre>')"
      ]
     },
     "metadata": {},
     "output_type": "display_data"
    }
   ],
   "source": [
    "experiment.configs(conf, {'dataset_name': 'summer2winter_yosemite'})"
   ]
  },
  {
   "cell_type": "markdown",
   "metadata": {
    "id": "DHyNvXfnzeWQ"
   },
   "source": [
    "Initialize"
   ]
  },
  {
   "cell_type": "code",
   "execution_count": 11,
   "metadata": {
    "colab": {
     "base_uri": "https://localhost:8080/",
     "height": 85
    },
    "id": "59ZeTv5SzcVe",
    "outputId": "55f4af22-b6df-4335-e4fb-d6d675e69b4e"
   },
   "outputs": [
    {
     "ename": "ValueError",
     "evalue": "Cannot set Configs:generator_xy after it was accessed",
     "output_type": "error",
     "traceback": [
      "\u001b[1;31m---------------------------------------------------------------------------\u001b[0m",
      "\u001b[1;31mValueError\u001b[0m                                Traceback (most recent call last)",
      "\u001b[1;32me:\\Git\\annotated_deep_learning_paper_implementations\\labml_nn\\gan\\cycle_gan\\experiment.ipynb 单元格 13\u001b[0m line \u001b[0;36m1\n\u001b[1;32m----> <a href='vscode-notebook-cell:/e%3A/Git/annotated_deep_learning_paper_implementations/labml_nn/gan/cycle_gan/experiment.ipynb#X15sZmlsZQ%3D%3D?line=0'>1</a>\u001b[0m conf\u001b[39m.\u001b[39;49minitialize()\n",
      "File \u001b[1;32md:\\ANACONDA\\envs\\pyTorchEnv\\lib\\site-packages\\labml_nn\\gan\\cycle_gan\\__init__.py:392\u001b[0m, in \u001b[0;36mConfigs.initialize\u001b[1;34m(self)\u001b[0m\n\u001b[0;32m    389\u001b[0m input_shape \u001b[39m=\u001b[39m (\u001b[39mself\u001b[39m\u001b[39m.\u001b[39mimg_channels, \u001b[39mself\u001b[39m\u001b[39m.\u001b[39mimg_height, \u001b[39mself\u001b[39m\u001b[39m.\u001b[39mimg_width)\n\u001b[0;32m    391\u001b[0m \u001b[39m# Create the models\u001b[39;00m\n\u001b[1;32m--> 392\u001b[0m \u001b[39mself\u001b[39;49m\u001b[39m.\u001b[39;49mgenerator_xy \u001b[39m=\u001b[39m GeneratorResNet(\u001b[39mself\u001b[39m\u001b[39m.\u001b[39mimg_channels, \u001b[39mself\u001b[39m\u001b[39m.\u001b[39mn_residual_blocks)\u001b[39m.\u001b[39mto(\u001b[39mself\u001b[39m\u001b[39m.\u001b[39mdevice)\n\u001b[0;32m    393\u001b[0m \u001b[39mself\u001b[39m\u001b[39m.\u001b[39mgenerator_yx \u001b[39m=\u001b[39m GeneratorResNet(\u001b[39mself\u001b[39m\u001b[39m.\u001b[39mimg_channels, \u001b[39mself\u001b[39m\u001b[39m.\u001b[39mn_residual_blocks)\u001b[39m.\u001b[39mto(\u001b[39mself\u001b[39m\u001b[39m.\u001b[39mdevice)\n\u001b[0;32m    394\u001b[0m \u001b[39mself\u001b[39m\u001b[39m.\u001b[39mdiscriminator_x \u001b[39m=\u001b[39m Discriminator(input_shape)\u001b[39m.\u001b[39mto(\u001b[39mself\u001b[39m\u001b[39m.\u001b[39mdevice)\n",
      "File \u001b[1;32md:\\ANACONDA\\envs\\pyTorchEnv\\lib\\site-packages\\labml\\internal\\configs\\base.py:229\u001b[0m, in \u001b[0;36mConfigs.__setattr__\u001b[1;34m(self, key, value)\u001b[0m\n\u001b[0;32m    227\u001b[0m \u001b[39melif\u001b[39;00m key \u001b[39min\u001b[39;00m \u001b[39mself\u001b[39m\u001b[39m.\u001b[39m__types:\n\u001b[0;32m    228\u001b[0m     \u001b[39mif\u001b[39;00m key \u001b[39min\u001b[39;00m \u001b[39mself\u001b[39m\u001b[39m.\u001b[39m__cached:\n\u001b[1;32m--> 229\u001b[0m         \u001b[39mraise\u001b[39;00m \u001b[39mValueError\u001b[39;00m(\u001b[39mf\u001b[39m\u001b[39m\"\u001b[39m\u001b[39mCannot set \u001b[39m\u001b[39m{\u001b[39;00m\u001b[39mself\u001b[39m\u001b[39m.\u001b[39m\u001b[39m__class__\u001b[39m\u001b[39m.\u001b[39m\u001b[39m__name__\u001b[39m\u001b[39m}\u001b[39;00m\u001b[39m:\u001b[39m\u001b[39m{\u001b[39;00mkey\u001b[39m}\u001b[39;00m\u001b[39m after it was accessed\u001b[39m\u001b[39m\"\u001b[39m)\n\u001b[0;32m    230\u001b[0m     \u001b[39mself\u001b[39m\u001b[39m.\u001b[39m__values[key] \u001b[39m=\u001b[39m value\n\u001b[0;32m    231\u001b[0m \u001b[39melse\u001b[39;00m:\n",
      "\u001b[1;31mValueError\u001b[0m: Cannot set Configs:generator_xy after it was accessed"
     ]
    }
   ],
   "source": [
    "conf.initialize()"
   ]
  },
  {
   "cell_type": "markdown",
   "metadata": {
    "id": "EvI7MtgJ61w5"
   },
   "source": [
    "Set PyTorch models for loading and saving"
   ]
  },
  {
   "cell_type": "code",
   "execution_count": 9,
   "metadata": {
    "id": "GDlt7dp-5ALt"
   },
   "outputs": [],
   "source": [
    "experiment.add_pytorch_models(get_modules(conf))"
   ]
  },
  {
   "cell_type": "markdown",
   "metadata": {
    "id": "KJZRf8527GxL"
   },
   "source": [
    "Start the experiment and run the training loop."
   ]
  },
  {
   "cell_type": "code",
   "execution_count": 10,
   "metadata": {
    "colab": {
     "base_uri": "https://localhost:8080/",
     "height": 649
    },
    "id": "aIAWo7Fw5DR8",
    "outputId": "e3b02247-8ff9-47b5-8f52-49c9e3b8377f"
   },
   "outputs": [
    {
     "data": {
      "application/vnd.jupyter.widget-view+json": {
       "model_id": "68b681e6e77f412eb3c1c9cc880ebce9",
       "version_major": 2,
       "version_minor": 0
      },
      "text/plain": [
       "HTML(value='<pre  style=\"overflow-x: scroll;\"><strong><span style=\"color: #DDB62B\">No labml server url specifi…"
      ]
     },
     "metadata": {},
     "output_type": "display_data"
    },
    {
     "name": "stderr",
     "output_type": "stream",
     "text": [
      "d:\\ANACONDA\\envs\\pyTorchEnv\\lib\\site-packages\\labml_nn\\gan\\cycle_gan\\__init__.py:547: FutureWarning: Accept configs object to your function, because it's easier to refactor, find usage etc: dataloader: from_type.LabML supports configs function that accept keyword arguments but this is not recommended.\n",
      "  for i, batch in monit.enum('Train', self.dataloader):\n"
     ]
    },
    {
     "ename": "ConfigsError",
     "evalue": "dataloader - from_type",
     "output_type": "error",
     "traceback": [
      "\u001b[1;31m---------------------------------------------------------------------------\u001b[0m",
      "\u001b[1;31mConfigsError\u001b[0m                              Traceback (most recent call last)",
      "\u001b[1;32me:\\Git\\annotated_deep_learning_paper_implementations\\labml_nn\\gan\\cycle_gan\\experiment.ipynb 单元格 17\u001b[0m line \u001b[0;36m2\n\u001b[0;32m      <a href='vscode-notebook-cell:/e%3A/Git/annotated_deep_learning_paper_implementations/labml_nn/gan/cycle_gan/experiment.ipynb#X22sZmlsZQ%3D%3D?line=0'>1</a>\u001b[0m \u001b[39mwith\u001b[39;00m experiment\u001b[39m.\u001b[39mstart():\n\u001b[1;32m----> <a href='vscode-notebook-cell:/e%3A/Git/annotated_deep_learning_paper_implementations/labml_nn/gan/cycle_gan/experiment.ipynb#X22sZmlsZQ%3D%3D?line=1'>2</a>\u001b[0m     conf\u001b[39m.\u001b[39;49mrun()\n",
      "File \u001b[1;32md:\\ANACONDA\\envs\\pyTorchEnv\\lib\\site-packages\\labml_nn\\gan\\cycle_gan\\__init__.py:547\u001b[0m, in \u001b[0;36mConfigs.run\u001b[1;34m(self)\u001b[0m\n\u001b[0;32m    544\u001b[0m \u001b[39m# Loop through epochs\u001b[39;00m\n\u001b[0;32m    545\u001b[0m \u001b[39mfor\u001b[39;00m epoch \u001b[39min\u001b[39;00m monit\u001b[39m.\u001b[39mloop(\u001b[39mself\u001b[39m\u001b[39m.\u001b[39mepochs):\n\u001b[0;32m    546\u001b[0m     \u001b[39m# Loop through the dataset\u001b[39;00m\n\u001b[1;32m--> 547\u001b[0m     \u001b[39mfor\u001b[39;00m i, batch \u001b[39min\u001b[39;00m monit\u001b[39m.\u001b[39menum(\u001b[39m'\u001b[39m\u001b[39mTrain\u001b[39m\u001b[39m'\u001b[39m, \u001b[39mself\u001b[39;49m\u001b[39m.\u001b[39;49mdataloader):\n\u001b[0;32m    548\u001b[0m         \u001b[39m# Move images to the device\u001b[39;00m\n\u001b[0;32m    549\u001b[0m         data_x, data_y \u001b[39m=\u001b[39m batch[\u001b[39m'\u001b[39m\u001b[39mx\u001b[39m\u001b[39m'\u001b[39m]\u001b[39m.\u001b[39mto(\u001b[39mself\u001b[39m\u001b[39m.\u001b[39mdevice), batch[\u001b[39m'\u001b[39m\u001b[39my\u001b[39m\u001b[39m'\u001b[39m]\u001b[39m.\u001b[39mto(\u001b[39mself\u001b[39m\u001b[39m.\u001b[39mdevice)\n\u001b[0;32m    551\u001b[0m         \u001b[39m# true labels equal to $1$\u001b[39;00m\n",
      "File \u001b[1;32md:\\ANACONDA\\envs\\pyTorchEnv\\lib\\site-packages\\labml\\internal\\configs\\base.py:243\u001b[0m, in \u001b[0;36mConfigs.__getattribute__\u001b[1;34m(self, item)\u001b[0m\n\u001b[0;32m    240\u001b[0m     \u001b[39mreturn\u001b[39;00m \u001b[39mobject\u001b[39m\u001b[39m.\u001b[39m\u001b[39m__getattribute__\u001b[39m(\u001b[39mself\u001b[39m, item)\n\u001b[0;32m    242\u001b[0m \u001b[39mif\u001b[39;00m item \u001b[39mnot\u001b[39;00m \u001b[39min\u001b[39;00m \u001b[39mself\u001b[39m\u001b[39m.\u001b[39m__cached:\n\u001b[1;32m--> 243\u001b[0m     \u001b[39mself\u001b[39;49m\u001b[39m.\u001b[39;49m__calculate(item)\n\u001b[0;32m    244\u001b[0m     \u001b[39mif\u001b[39;00m \u001b[39mself\u001b[39m\u001b[39m.\u001b[39m__update_callback \u001b[39mis\u001b[39;00m \u001b[39mnot\u001b[39;00m \u001b[39mNone\u001b[39;00m:\n\u001b[0;32m    245\u001b[0m         \u001b[39mself\u001b[39m\u001b[39m.\u001b[39m__update_callback()\n",
      "File \u001b[1;32md:\\ANACONDA\\envs\\pyTorchEnv\\lib\\site-packages\\labml\\internal\\configs\\base.py:309\u001b[0m, in \u001b[0;36mConfigs.__calculate\u001b[1;34m(self, item)\u001b[0m\n\u001b[0;32m    307\u001b[0m     \u001b[39mraise\u001b[39;00m \u001b[39mAttributeError\u001b[39;00m(\u001b[39mf\u001b[39m\u001b[39m\"\u001b[39m\u001b[39m{\u001b[39;00m\u001b[39mself\u001b[39m\u001b[39m.\u001b[39m\u001b[39m__class__\u001b[39m\u001b[39m.\u001b[39m\u001b[39m__name__\u001b[39m\u001b[39m}\u001b[39;00m\u001b[39m has no attribute `\u001b[39m\u001b[39m{\u001b[39;00mitem\u001b[39m}\u001b[39;00m\u001b[39m`\u001b[39m\u001b[39m\"\u001b[39m)\n\u001b[0;32m    308\u001b[0m \u001b[39melif\u001b[39;00m \u001b[39mtype\u001b[39m(\u001b[39mself\u001b[39m\u001b[39m.\u001b[39m__types[item]) \u001b[39m==\u001b[39m \u001b[39mtype\u001b[39m \u001b[39mand\u001b[39;00m \u001b[39mself\u001b[39m\u001b[39m.\u001b[39m__types[item] \u001b[39mnot\u001b[39;00m \u001b[39min\u001b[39;00m _STANDARD_TYPES:\n\u001b[1;32m--> 309\u001b[0m     config_function \u001b[39m=\u001b[39m ConfigFunction(\u001b[39mself\u001b[39;49m\u001b[39m.\u001b[39;49m__types[item],\n\u001b[0;32m    310\u001b[0m                                      config_names\u001b[39m=\u001b[39;49m\u001b[39mself\u001b[39;49m\u001b[39m.\u001b[39;49m__config_items[item],\n\u001b[0;32m    311\u001b[0m                                      option_name\u001b[39m=\u001b[39;49m\u001b[39m'\u001b[39;49m\u001b[39mfrom_type\u001b[39;49m\u001b[39m'\u001b[39;49m)\n\u001b[0;32m    313\u001b[0m     \u001b[39mself\u001b[39m\u001b[39m.\u001b[39m__options[item] \u001b[39m=\u001b[39m OrderedDict()\n\u001b[0;32m    314\u001b[0m     \u001b[39mself\u001b[39m\u001b[39m.\u001b[39m__options[item][\u001b[39m'\u001b[39m\u001b[39mfrom_type\u001b[39m\u001b[39m'\u001b[39m] \u001b[39m=\u001b[39m config_function\n",
      "File \u001b[1;32md:\\ANACONDA\\envs\\pyTorchEnv\\lib\\site-packages\\labml\\internal\\configs\\config_function.py:107\u001b[0m, in \u001b[0;36mConfigFunction.__init__\u001b[1;34m(self, func, config_names, option_name, pass_params)\u001b[0m\n\u001b[0;32m    103\u001b[0m \u001b[39mself\u001b[39m\u001b[39m.\u001b[39moption_name \u001b[39m=\u001b[39m \u001b[39mself\u001b[39m\u001b[39m.\u001b[39m__get_option_name(option_name)\n\u001b[0;32m    105\u001b[0m \u001b[39mself\u001b[39m\u001b[39m.\u001b[39mparams \u001b[39m=\u001b[39m \u001b[39mself\u001b[39m\u001b[39m.\u001b[39m__get_params()\n\u001b[1;32m--> 107\u001b[0m \u001b[39mself\u001b[39m\u001b[39m.\u001b[39mkind \u001b[39m=\u001b[39m \u001b[39mself\u001b[39;49m\u001b[39m.\u001b[39;49m__get_type()\n",
      "File \u001b[1;32md:\\ANACONDA\\envs\\pyTorchEnv\\lib\\site-packages\\labml\\internal\\configs\\config_function.py:67\u001b[0m, in \u001b[0;36mConfigFunction.__get_type\u001b[1;34m(self)\u001b[0m\n\u001b[0;32m     62\u001b[0m warnings\u001b[39m.\u001b[39mwarn(\u001b[39mf\u001b[39m\u001b[39m\"\u001b[39m\u001b[39mAccept configs object to your function, because it\u001b[39m\u001b[39m'\u001b[39m\u001b[39ms easier to refactor, find usage etc: \u001b[39m\u001b[39m\"\u001b[39m\n\u001b[0;32m     63\u001b[0m               \u001b[39mf\u001b[39m\u001b[39m\"\u001b[39m\u001b[39m{\u001b[39;00m\u001b[39mself\u001b[39m\u001b[39m.\u001b[39mconfig_names\u001b[39m}\u001b[39;00m\u001b[39m: \u001b[39m\u001b[39m{\u001b[39;00m\u001b[39mself\u001b[39m\u001b[39m.\u001b[39moption_name\u001b[39m}\u001b[39;00m\u001b[39m.\u001b[39m\u001b[39m\"\u001b[39m\n\u001b[0;32m     64\u001b[0m               \u001b[39mf\u001b[39m\u001b[39m\"\u001b[39m\u001b[39mLabML supports configs function that accept keyword arguments but this is not recommended.\u001b[39m\u001b[39m\"\u001b[39m,\n\u001b[0;32m     65\u001b[0m               \u001b[39mFutureWarning\u001b[39;00m, stacklevel\u001b[39m=\u001b[39m\u001b[39m5\u001b[39m)\n\u001b[0;32m     66\u001b[0m \u001b[39mif\u001b[39;00m pos \u001b[39m!=\u001b[39m \u001b[39m0\u001b[39m:\n\u001b[1;32m---> 67\u001b[0m     \u001b[39mraise\u001b[39;00m ConfigsError(\n\u001b[0;32m     68\u001b[0m         \u001b[39mf\u001b[39m\u001b[39m\"\u001b[39m\u001b[39m{\u001b[39;00m\u001b[39mself\u001b[39m\u001b[39m.\u001b[39mconfig_names\u001b[39m}\u001b[39;00m\u001b[39m - \u001b[39m\u001b[39m{\u001b[39;00m\u001b[39mself\u001b[39m\u001b[39m.\u001b[39moption_name\u001b[39m}\u001b[39;00m\u001b[39m\"\u001b[39m)\n\u001b[0;32m     69\u001b[0m \u001b[39mreturn\u001b[39;00m FunctionKind\u001b[39m.\u001b[39mpass_kwargs\n",
      "\u001b[1;31mConfigsError\u001b[0m: dataloader - from_type"
     ]
    }
   ],
   "source": [
    "with experiment.start():\n",
    "    conf.run()"
   ]
  },
  {
   "cell_type": "code",
   "execution_count": null,
   "metadata": {
    "id": "oBXXlP2b7XZO"
   },
   "outputs": [],
   "source": []
  }
 ],
 "metadata": {
  "accelerator": "GPU",
  "colab": {
   "collapsed_sections": [],
   "name": "Cycle GAN",
   "provenance": [],
   "toc_visible": true
  },
  "kernelspec": {
   "display_name": "Python 3",
   "name": "python3"
  },
  "language_info": {
   "codemirror_mode": {
    "name": "ipython",
    "version": 3
   },
   "file_extension": ".py",
   "mimetype": "text/x-python",
   "name": "python",
   "nbconvert_exporter": "python",
   "pygments_lexer": "ipython3",
   "version": "3.10.13"
  }
 },
 "nbformat": 4,
 "nbformat_minor": 0
}
